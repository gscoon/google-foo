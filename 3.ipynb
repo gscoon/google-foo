{
 "cells": [
  {
   "cell_type": "markdown",
   "metadata": {},
   "source": [
    "Spy snippets\n",
    "============\n",
    "\n",
    "You've been recruited by the team building Spy4Rabbits, a highly advanced search engine used to help fellow agents discover files and intel needed to continue the operations against Dr. Boolean's evil experiments. The team is known for recruiting only the brightest rabbit engineers, so there's no surprise they brought you on board. While you're elbow deep in some important encryption algorithm, a high-ranking rabbit official requests a nice aesthetic feature for the tool called \"Snippet Search.\" While you really wanted to tell him how such a feature is a waste of time in this intense, fast-paced spy organization, you also wouldn't mind getting kudos from a leader. How hard could it be, anyway?\n",
    "\n",
    "When someone makes a search, Spy4Rabbits shows the title of the page. Your commander would also like it to show a short snippet of the page containing the terms that were searched for. \n",
    "\n",
    "Write a function called answer(document, searchTerms) which returns the shortest snippet of the document, containing all of the given search terms. The search terms can appear in any order.\n",
    "\n",
    "The length of a snippet is the number of words in the snippet. For example, the length of the snippet \"tastiest color of carrot\" is 4. (Who doesn't like a delicious snack!)\n",
    "\n",
    "The document will be a string consisting only of lower-case letters [a-z] and spaces. Words in the string will be separated by a single space. A word could appear multiple times in the document.\n",
    "searchTerms will be a list of words, each word comprised only of lower-case letters [a-z]. All the search terms will be distinct.\n",
    "\n",
    "Search terms must match words exactly, so \"hop\" does not match \"hopping\".\n",
    "\n",
    "Return the first sub-string if multiple sub-strings are shortest. For example, if the document is \"world there hello hello where world\" and the search terms are [\"hello\", \"world\"], you must return \"world there hello\".\n",
    "\n",
    "The document will be guaranteed to contain all the search terms.\n",
    "\n",
    "The number of words in the document will be at least one, will not exceed 500, and each word will be 1 to 10 letters long. Repeat words in the document are considered distinct for counting purposes.\n",
    "The number of words in searchTerms will be at least one, will not exceed 100, and each word will not be more than 10 letters long.\n",
    "\n",
    "Languages\n",
    "=========\n",
    "\n",
    "To provide a Python solution, edit solution.py\n",
    "To provide a Java solution, edit solution.java\n",
    "\n",
    "Test cases\n",
    "==========\n",
    "\n",
    "Inputs:\n",
    "    - (string) document = \"many google employees can program\"\n",
    "    - (string list) searchTerms = [\"google\", \"program\"]\n",
    "Output:\n",
    "    - (string) \"google employees can program\"\n",
    "\n",
    "Inputs:\n",
    "    - (string) document = \"a b c d a\"\n",
    "    - (string list) searchTerms = [\"a\", \"c\", \"d\"]\n",
    "Output:\n",
    "    - (string) \"c d a\""
   ]
  },
  {
   "cell_type": "code",
   "execution_count": 286,
   "metadata": {
    "collapsed": false
   },
   "outputs": [],
   "source": [
    "def answer(document, searchTerms):\n",
    "    doc = document.split(' ')\n",
    "    spot = {}\n",
    "    for s in searchTerms:\n",
    "        spot[s] = []\n",
    "        for docIdx, docWord in enumerate(doc):\n",
    "            if docWord == s:\n",
    "                spot[s].append(docIdx)\n",
    "                \n",
    "    #print spot\n",
    "    \n",
    "    chainchain = []\n",
    "    for ss in spot:## ss is spotted word\n",
    "        tempChain = []\n",
    "        for spotIdx in spot[ss]: ## loop through each instance found in doc\n",
    "            if len(chainchain) == 0:\n",
    "                tempChain.append([spotIdx, spotIdx])\n",
    "            else: # loop through each item in the existing chain\n",
    "                for c in chainchain:\n",
    "                    cCopy = list(c)\n",
    "                    if spotIdx < cCopy[0]:\n",
    "                        cCopy[0] = spotIdx\n",
    "                    elif spotIdx > cCopy[1]:\n",
    "                        cCopy[1] = spotIdx\n",
    "                    #cCopy.append(spotIdx)\n",
    "                    if cCopy in tempChain:\n",
    "                        continue\n",
    "                    tempChain.append(cCopy)\n",
    "        chainchain = list(tempChain)\n",
    "        #print chain\n",
    "    chainDiffs = [max(x)-min(x) for x in chainchain]\n",
    "    target = chainchain[chainDiffs.index(min(chainDiffs))]\n",
    "    return ' '.join(doc[min(target): max(target)+1])"
   ]
  },
  {
   "cell_type": "code",
   "execution_count": 285,
   "metadata": {
    "collapsed": false
   },
   "outputs": [
    {
     "data": {
      "text/plain": [
       "'c d a'"
      ]
     },
     "execution_count": 285,
     "metadata": {},
     "output_type": "execute_result"
    }
   ],
   "source": [
    "document = \"a b c d a fg gr oge ia oa aa oja a a a b d h\"\n",
    "searchTerms = [\"a\", \"c\", \"d\"]\n",
    "\n",
    "answer(document, searchTerms)"
   ]
  },
  {
   "cell_type": "code",
   "execution_count": 200,
   "metadata": {
    "collapsed": false
   },
   "outputs": [
    {
     "name": "stdout",
     "output_type": "stream",
     "text": [
      "36\n",
      "80\n"
     ]
    }
   ],
   "source": [
    "import sys\n",
    "print sys.getsizeof('0|1')\n",
    "print sys.getsizeof([0,1])"
   ]
  },
  {
   "cell_type": "code",
   "execution_count": 202,
   "metadata": {
    "collapsed": false
   },
   "outputs": [
    {
     "data": {
      "text/plain": [
       "False"
      ]
     },
     "execution_count": 202,
     "metadata": {},
     "output_type": "execute_result"
    }
   ],
   "source": [
    "\"5\">\"6\""
   ]
  },
  {
   "cell_type": "code",
   "execution_count": 282,
   "metadata": {
    "collapsed": false
   },
   "outputs": [
    {
     "data": {
      "text/plain": [
       "{3, 5, 6, 7, 9}"
      ]
     },
     "execution_count": 282,
     "metadata": {},
     "output_type": "execute_result"
    }
   ],
   "source": [
    "t = [5,6,7,9,3,5,6]\n",
    "set(t)"
   ]
  }
 ],
 "metadata": {
  "kernelspec": {
   "display_name": "Python 2",
   "language": "python",
   "name": "python2"
  },
  "language_info": {
   "codemirror_mode": {
    "name": "ipython",
    "version": 2
   },
   "file_extension": ".py",
   "mimetype": "text/x-python",
   "name": "python",
   "nbconvert_exporter": "python",
   "pygments_lexer": "ipython2",
   "version": "2.7.10"
  }
 },
 "nbformat": 4,
 "nbformat_minor": 0
}
