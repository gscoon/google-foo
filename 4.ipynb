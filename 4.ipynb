{
 "cells": [
  {
   "cell_type": "markdown",
   "metadata": {},
   "source": [
    "String cleaning\n",
    "===============\n",
    "\n",
    "Your spy, Beta Rabbit, has managed to infiltrate a lab of mad scientists who are turning rabbits into zombies. He sends a text transmission to you, but it is intercepted by a pirate, who jumbles the message by repeatedly inserting the same word into the text some number of times. At each step, he might have inserted the word anywhere, including at the beginning or end, or even into a copy of the word he inserted in a previous step. By offering the pirate a dubloon, you get him to tell you what that word was. A few bottles of rum later, he also tells you that the original text was the shortest possible string formed by repeated removals of that word, and that the text was actually the lexicographically earliest string from all the possible shortest candidates. Using this information, can you work out what message your spy originally sent?\n",
    "\n",
    "For example, if the final chunk of text was \"lolol,\" and the inserted word was \"lol,\" the shortest possible strings are \"ol\" (remove \"lol\" from the beginning) and \"lo\" (remove \"lol\" from the end). The original text therefore must have been \"lo,\" the lexicographically earliest string.\n",
    "\n",
    "Write a function called answer(chunk, word) that returns the shortest, lexicographically earliest string that can be formed by removing occurrences of word from chunk. Keep in mind that the occurrences may be nested, and that removing one occurrence might result in another. For example, removing \"ab\" from \"aabb\" results in another \"ab\" that was not originally present. Also keep in mind that your spy's original message might have been an empty string.\n",
    "\n",
    "chunk and word will only consist of lowercase letters [a-z].\n",
    "chunk will have no more than 20 characters.\n",
    "word will have at least one character, and no more than the number of characters in chunk.\n",
    "\n",
    "Test cases\n",
    "==========\n",
    "\n",
    "Inputs:\n",
    "    - (string) chunk = \"lololololo\"\n",
    "    - (string) word = \"lol\"\n",
    "Output:\n",
    "    - (string) \"looo\"\n",
    "\n",
    "Inputs:\n",
    "    - (string) chunk = \"goodgooogoogfogoood\"\n",
    "    - (string) word = \"goo\"\n",
    "Output:\n",
    "    - (string) \"dogfood\""
   ]
  },
  {
   "cell_type": "code",
   "execution_count": 50,
   "metadata": {
    "collapsed": false
   },
   "outputs": [],
   "source": [
    "def answer(chunk, word):\n",
    "    wlen = len(word)\n",
    "    #get all starting points\n",
    "    startingPoints = []\n",
    "    idx = -1\n",
    "    while True:\n",
    "        try:\n",
    "            idx = chunk.index(word, idx+1)\n",
    "            startingPoints.append(idx)\n",
    "        except ValueError:\n",
    "            break\n",
    "    #holds all\n",
    "    ending = {\"list\":[], \"min\":None}\n",
    "    # loop through starting points and remove til you cant anymore\n",
    "    for st in startingPoints:\n",
    "        thisStr = chunk[0:st] + chunk[st+wlen:]\n",
    "        while True:\n",
    "            strippedStr = thisStr.replace(word, \"\")\n",
    "            # keep stripping\n",
    "            if strippedStr != thisStr:\n",
    "                thisStr = strippedStr\n",
    "                continue\n",
    "            \n",
    "            # stop stripping\n",
    "            if ending[\"min\"] == None or len(thisStr) < ending[\"min\"]:\n",
    "                ending[\"list\"] = [strippedStr]\n",
    "                ending[\"min\"] = len(thisStr)\n",
    "            elif len(thisStr) == ending[\"min\"]:\n",
    "                ending[\"list\"].append(strippedStr)\n",
    "            break\n",
    "    return min(ending['list'])"
   ]
  },
  {
   "cell_type": "code",
   "execution_count": 53,
   "metadata": {
    "collapsed": false
   },
   "outputs": [
    {
     "data": {
      "text/plain": [
       "''"
      ]
     },
     "execution_count": 53,
     "metadata": {},
     "output_type": "execute_result"
    }
   ],
   "source": [
    "chunk = \"lol\"\n",
    "word = \"lol\"\n",
    "answer(chunk, word)"
   ]
  },
  {
   "cell_type": "code",
   "execution_count": 4,
   "metadata": {
    "collapsed": false
   },
   "outputs": [
    {
     "data": {
      "text/plain": [
       "3"
      ]
     },
     "execution_count": 4,
     "metadata": {},
     "output_type": "execute_result"
    }
   ],
   "source": [
    "\"lololololo\".index(\"ol\",2)"
   ]
  },
  {
   "cell_type": "code",
   "execution_count": 39,
   "metadata": {
    "collapsed": false
   },
   "outputs": [
    {
     "data": {
      "text/plain": [
       "True"
      ]
     },
     "execution_count": 39,
     "metadata": {},
     "output_type": "execute_result"
    }
   ],
   "source": [
    "\"z\">\"sss\""
   ]
  }
 ],
 "metadata": {
  "kernelspec": {
   "display_name": "Python 2",
   "language": "python",
   "name": "python2"
  },
  "language_info": {
   "codemirror_mode": {
    "name": "ipython",
    "version": 2
   },
   "file_extension": ".py",
   "mimetype": "text/x-python",
   "name": "python",
   "nbconvert_exporter": "python",
   "pygments_lexer": "ipython2",
   "version": "2.7.10"
  }
 },
 "nbformat": 4,
 "nbformat_minor": 0
}
