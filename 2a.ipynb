{
 "cells": [
  {
   "cell_type": "code",
   "execution_count": 91,
   "metadata": {
    "collapsed": false
   },
   "outputs": [],
   "source": [
    "def answer(meetings):\n",
    "    order = {}\n",
    "    strand = {\"start\": None, \"l\": [], \"minEnd\": None}\n",
    "    \n",
    "    for m1 in meetings:\n",
    "        mID1 = str(m1[0]) + '|' + str(m1[1])\n",
    "        m1Sum = m1[0] + m1[1]\n",
    "        if(strand['minEnd'] == None or m1[1] < strand['minEnd']):\n",
    "            strand['minEnd'] = m1[1]\n",
    "            strand['start'] = mID1\n",
    "\n",
    "        order[mID1] = {\"min\":None, \"minID\":None}\n",
    "        \n",
    "        for m2 in meetings:\n",
    "            mID2 = str(m2[0]) + '|' + str(m2[1])\n",
    "            m2Sum = m2[0] + m2[1]\n",
    "                \n",
    "            # if not already a child\n",
    "            if mID2 == order[mID1]['minID']:\n",
    "                continue\n",
    "                \n",
    "            # if #2 start time less than number #1 end time\n",
    "            if m2[0] < m1[1]:\n",
    "                continue\n",
    "            \n",
    "            # if # 1 min hasnt been set or #2 sum is less that #1 min\n",
    "            if order[mID1]['min'] == None or order[mID1][\"min\"] > m2Sum:\n",
    "                order[mID1]['minID'] = mID2\n",
    "                order[mID1]['min'] = m2Sum\n",
    "    \n",
    "    currentNode = strand['start']\n",
    "    while True:\n",
    "        strand['l'].append(currentNode)\n",
    "        if order[currentNode]['minID'] == None:\n",
    "            break;\n",
    "        currentNode = order[currentNode]['minID']\n",
    "    \n",
    "    return strand\n",
    "   "
   ]
  },
  {
   "cell_type": "code",
   "execution_count": 93,
   "metadata": {
    "collapsed": false
   },
   "outputs": [
    {
     "data": {
      "text/plain": [
       "1"
      ]
     },
     "execution_count": 93,
     "metadata": {},
     "output_type": "execute_result"
    }
   ],
   "source": [
    "m = [[0, 1], [1, 2], [2, 3], [3, 5], [4, 5]]\n",
    "m = [[0, 1000000], [42, 43], [0, 1000000], [42, 43]]\n",
    "len(answer(m)['l'])"
   ]
  }
 ],
 "metadata": {
  "kernelspec": {
   "display_name": "Python 2",
   "language": "python",
   "name": "python2"
  },
  "language_info": {
   "codemirror_mode": {
    "name": "ipython",
    "version": 2
   },
   "file_extension": ".py",
   "mimetype": "text/x-python",
   "name": "python",
   "nbconvert_exporter": "python",
   "pygments_lexer": "ipython2",
   "version": "2.7.10"
  }
 },
 "nbformat": 4,
 "nbformat_minor": 0
}
