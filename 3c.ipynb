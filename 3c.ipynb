{
 "cells": [
  {
   "cell_type": "markdown",
   "metadata": {},
   "source": [
    "Square supplies\n",
    "===============\n",
    "\n",
    "With the zombie cure injections ready to go, it's time to start treating our zombified rabbit friends (known as zombits) at our makeshift zombit treatment center. You need to run out really fast to buy some gauze pads but you only have 30 seconds before you need to be back.\n",
    "\n",
    "Luckily, the corner store has unlimited gauze pads in squares of all sizes. Jackpot! The pricing is simple - a square gauze pad of size K x K costs exactly K * K coins. For example, a gauze pad of size 3x3 costs 9 coins.\n",
    "\n",
    "You're in a hurry and the cashier takes a long time to process each transaction. You decide the fastest way to get what you need is to buy as few gauze pads as possible, while spending all of your coins (you can always cut up the gauze later if you need to). Given that you have n coins, what's the fewest number of gauze pads you can buy?\n",
    "\n",
    "Write a method answer(n), which returns the smallest number of square gauze pads that can be bought with exactly n coins.\n",
    "\n",
    "n will be an integer, satisfying 1 <= n <= 10000.\n",
    "\n",
    "Languages\n",
    "=========\n",
    "\n",
    "To provide a Python solution, edit solution.py\n",
    "To provide a Java solution, edit solution.java\n",
    "\n",
    "Test cases\n",
    "==========\n",
    "\n",
    "Inputs:\n",
    "    - (int) n = 24\n",
    "Output:\n",
    "    - (int) 3\n",
    "\n",
    "Inputs:\n",
    "    - (int) n = 160\n",
    "Output:\n",
    "    - (int) 2"
   ]
  },
  {
   "cell_type": "code",
   "execution_count": 78,
   "metadata": {
    "collapsed": false
   },
   "outputs": [],
   "source": [
    "def answer(n):\n",
    "    rts = []\n",
    "    curr = n\n",
    "    while True:   \n",
    "        rt, rtSquared, isInt = greatestSquare(curr)\n",
    "        print rt, rtSquared, isInt\n",
    "        rts.append(rt)\n",
    "        \n",
    "        if isInt == True:\n",
    "            break\n",
    "        curr = curr - rtSquared\n",
    "    return len(rts)\n",
    "        \n",
    "def greatestSquare(x):\n",
    "    rt = x ** (1./2)\n",
    "    return int(rt), int(rt)**2, rt - int(rt) == 0"
   ]
  },
  {
   "cell_type": "raw",
   "metadata": {},
   "source": [
    "answer(50)"
   ]
  },
  {
   "cell_type": "code",
   "execution_count": 23,
   "metadata": {
    "collapsed": false
   },
   "outputs": [],
   "source": []
  },
  {
   "cell_type": "code",
   "execution_count": 21,
   "metadata": {
    "collapsed": false
   },
   "outputs": [
    {
     "data": {
      "text/plain": [
       "5"
      ]
     },
     "execution_count": 21,
     "metadata": {},
     "output_type": "execute_result"
    }
   ],
   "source": [
    "int(145 ** (1./3))"
   ]
  },
  {
   "cell_type": "code",
   "execution_count": 64,
   "metadata": {
    "collapsed": false
   },
   "outputs": [
    {
     "data": {
      "text/plain": [
       "True"
      ]
     },
     "execution_count": 64,
     "metadata": {},
     "output_type": "execute_result"
    }
   ],
   "source": [
    "i = 2.0001\n",
    "i - int(i) > 0"
   ]
  }
 ],
 "metadata": {
  "kernelspec": {
   "display_name": "Python 2",
   "language": "python",
   "name": "python2"
  },
  "language_info": {
   "codemirror_mode": {
    "name": "ipython",
    "version": 2
   },
   "file_extension": ".py",
   "mimetype": "text/x-python",
   "name": "python",
   "nbconvert_exporter": "python",
   "pygments_lexer": "ipython2",
   "version": "2.7.10"
  }
 },
 "nbformat": 4,
 "nbformat_minor": 0
}
