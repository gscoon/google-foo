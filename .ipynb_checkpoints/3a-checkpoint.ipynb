{
 "cells": [
  {
   "cell_type": "markdown",
   "metadata": {},
   "source": [
    "String cleaning\n",
    "===============\n",
    "\n",
    "Your spy, Beta Rabbit, has managed to infiltrate a lab of mad scientists who are turning rabbits into zombies. He sends a text transmission to you, but it is intercepted by a pirate, who jumbles the message by repeatedly inserting the same word into the text some number of times. At each step, he might have inserted the word anywhere, including at the beginning or end, or even into a copy of the word he inserted in a previous step. By offering the pirate a dubloon, you get him to tell you what that word was. A few bottles of rum later, he also tells you that the original text was the shortest possible string formed by repeated removals of that word, and that the text was actually the lexicographically earliest string from all the possible shortest candidates. Using this information, can you work out what message your spy originally sent?\n",
    "\n",
    "For example, if the final chunk of text was \"lolol,\" and the inserted word was \"lol,\" the shortest possible strings are \"ol\" (remove \"lol\" from the beginning) and \"lo\" (remove \"lol\" from the end). The original text therefore must have been \"lo,\" the lexicographically earliest string.\n",
    "\n",
    "Write a function called answer(chunk, word) that returns the shortest, lexicographically earliest string that can be formed by removing occurrences of word from chunk. Keep in mind that the occurrences may be nested, and that removing one occurrence might result in another. For example, removing \"ab\" from \"aabb\" results in another \"ab\" that was not originally present. Also keep in mind that your spy's original message might have been an empty string.\n",
    "\n",
    "chunk and word will only consist of lowercase letters [a-z].\n",
    "chunk will have no more than 20 characters.\n",
    "word will have at least one character, and no more than the number of characters in chunk."
   ]
  },
  {
   "cell_type": "code",
   "execution_count": 1,
   "metadata": {
    "collapsed": true
   },
   "outputs": [],
   "source": [
    "def answer(chunk, word):\n",
    "    startingPoints = []\n",
    "    \n",
    "    return \"\""
   ]
  },
  {
   "cell_type": "code",
   "execution_count": null,
   "metadata": {
    "collapsed": true
   },
   "outputs": [],
   "source": [
    "chunk = \"lololololo\"\n",
    "word = \"lol\"\n",
    "answer(chunk, word)"
   ]
  }
 ],
 "metadata": {
  "kernelspec": {
   "display_name": "Python 2",
   "language": "python",
   "name": "python2"
  },
  "language_info": {
   "codemirror_mode": {
    "name": "ipython",
    "version": 2
   },
   "file_extension": ".py",
   "mimetype": "text/x-python",
   "name": "python",
   "nbconvert_exporter": "python",
   "pygments_lexer": "ipython2",
   "version": "2.7.10"
  }
 },
 "nbformat": 4,
 "nbformat_minor": 0
}
