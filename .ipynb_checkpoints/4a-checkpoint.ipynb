{
 "cells": [
  {
   "cell_type": "markdown",
   "metadata": {},
   "source": [
    "Breeding like rabbits\n",
    "=====================\n",
    "\n",
    "As usual, the zombie rabbits (zombits) are breeding... like rabbits! But instead of following the Fibonacci sequence like all good rabbits do, the zombit population changes according to this bizarre formula, where R(n) is the number of zombits at time n:\n",
    "\n",
    "* R(0) = 1\n",
    "* R(1) = 1\n",
    "* R(2) = 2\n",
    "* R(2n) = R(n) + R(n + 1) + n (for n > 1)\n",
    "* R(2n + 1) = R(n - 1) + R(n) + 1 (for n >= 1)\n",
    "\n",
    "(At time 2, we realized the difficulty of a breeding program with only one zombit and so added an additional zombit.)\n",
    "\n",
    "Being bored with the day-to-day duties of a henchman, a bunch of Professor Boolean's minions passed the time by playing a guessing game: when will the zombit population be equal to a certain amount? Then, some clever minion objected that this was too easy, and proposed a slightly different game: when is the last time that the zombit population will be equal to a certain amount? And thus, much fun was had, and much merry was made.\n",
    "\n",
    "(Not in this story: Professor Boolean later downsizes his operation, and you can guess what happens to these minions.)\n",
    "\n",
    "Write a function answer(str_S) which, given the base-10 string representation of an integer S, returns the largest n such that R(n) = S. Return the answer as a string in base-10 representation. If there is no such n, return \"None\". S will be a positive integer no greater than 10^25.\n",
    "\n",
    "Languages\n",
    "=========\n",
    "\n",
    "To provide a Python solution, edit solution.py\n",
    "To provide a Java solution, edit solution.java\n",
    "\n",
    "Test cases\n",
    "==========\n",
    "\n",
    "Inputs:\n",
    "    -(string) str_S = \"7\"\n",
    "Output:\n",
    "    -(string) \"4\"\n",
    "\n",
    "Inputs:\n",
    "    -(string) str_S = \"100\"\n",
    "Output:\n",
    "    -(string) \"None\"\n"
   ]
  },
  {
   "cell_type": "code",
   "execution_count": 106,
   "metadata": {
    "collapsed": false
   },
   "outputs": [],
   "source": [
    "lib = {0:1, 1:1, 2:2}\n",
    "\n",
    "def answer(str_S):\n",
    "    s = int(str_S)\n",
    "    i = 0    \n",
    "    maxOdd = 0\n",
    "    match = []\n",
    "    \n",
    "    while True:\n",
    "        x = getVal(i)\n",
    "        print i, x\n",
    "        if x == s: #match\n",
    "            match.append(i)\n",
    "            \n",
    "        if i % 2 != 0: #even\n",
    "            maxOdd = x\n",
    "            \n",
    "        if maxOdd >= s:\n",
    "            break\n",
    "        i += 1\n",
    "        \n",
    "    if len(match) == 0:\n",
    "        return \"None\"\n",
    "    else:\n",
    "        return str(max(match))\n",
    "    \n",
    "def reverseVal(x):\n",
    "    if x % 2 == 0: #even\n",
    "        n = \"\"\n",
    "    else: #odd\n",
    "        return npeOdd(x)\n",
    "\n",
    "def getVal(x):\n",
    "    if(x in lib):\n",
    "        return lib[x]\n",
    "    \n",
    "    if x % 2 == 0: #even\n",
    "        return npeEven(x)\n",
    "    else: #odd\n",
    "        return npeOdd(x)\n",
    "        \n",
    "def npeOdd(x):\n",
    "    n = (x-1)/2\n",
    "    val = getVal(n-1) + getVal(n) + 1\n",
    "    #lib[x] = val\n",
    "    return val\n",
    "    \n",
    "def npeEven(x):\n",
    "    n = x/2\n",
    "    val = getVal(n) + getVal(n+1) + n\n",
    "    #lib[x] = val\n",
    "    return val\n",
    "\n",
    "def isEven(x):\n",
    "    return (x % 2 == 0)"
   ]
  },
  {
   "cell_type": "code",
   "execution_count": 141,
   "metadata": {
    "collapsed": false
   },
   "outputs": [
    {
     "name": "stdout",
     "output_type": "stream",
     "text": [
      "0 1\n",
      "1 1\n",
      "2 2\n",
      "3 3\n",
      "4 7\n",
      "5 4\n",
      "6 13\n",
      "7 6\n",
      "8 15\n",
      "9 11\n",
      "10 22\n",
      "11 12\n",
      "12 25\n",
      "13 18\n",
      "14 28\n",
      "15 20\n",
      "16 34\n",
      "17 22\n",
      "18 42\n",
      "19 27\n",
      "20 44\n",
      "21 34\n",
      "22 48\n",
      "23 35\n",
      "24 55\n",
      "25 38\n",
      "26 59\n",
      "27 44\n",
      "28 62\n",
      "29 47\n",
      "30 69\n",
      "31 49\n",
      "32 72\n",
      "33 55\n",
      "34 81\n",
      "35 57\n",
      "36 87\n",
      "37 65\n",
      "38 90\n",
      "39 70\n",
      "40 98\n",
      "41 72\n",
      "42 103\n",
      "43 79\n",
      "44 105\n",
      "45 83\n",
      "46 113\n",
      "47 84\n",
      "48 117\n",
      "49 91\n",
      "50 122\n",
      "51 94\n",
      "52 129\n",
      "53 98\n",
      "54 133\n",
      "55 104\n"
     ]
    },
    {
     "data": {
      "text/plain": [
       "'None'"
      ]
     },
     "execution_count": 141,
     "metadata": {},
     "output_type": "execute_result"
    }
   ],
   "source": [
    "answer(100)"
   ]
  },
  {
   "cell_type": "code",
   "execution_count": 146,
   "metadata": {
    "collapsed": false
   },
   "outputs": [],
   "source": [
    "def handleBoth(nList):\n",
    "    for n in nList:\n",
    "        if isEven(n) == True:\n",
    "            handleEven(n)\n",
    "        else:\n",
    "            handleOdd(n)\n",
    "\n",
    "def handleEven(n):\n",
    "    if n==2:\n",
    "        tracker['base'] += 2\n",
    "    if n==0:\n",
    "        tracker['base'] += 1\n",
    "    elif n>2:\n",
    "        tracker['const'] += n/2\n",
    "        kids = [n/2, n/2+1]\n",
    "        handleBoth(kids)\n",
    "\n",
    "def handleOdd(n):\n",
    "    if n==1:\n",
    "        tracker['base'] += 1\n",
    "    else:\n",
    "        tracker['const'] += 1\n",
    "        newN = (n-1)/2\n",
    "        kids = [newN, newN-1]\n",
    "        handleBoth(kids)\n",
    "\n"
   ]
  },
  {
   "cell_type": "code",
   "execution_count": 153,
   "metadata": {
    "collapsed": false
   },
   "outputs": [
    {
     "data": {
      "text/plain": [
       "5919654"
      ]
     },
     "execution_count": 153,
     "metadata": {},
     "output_type": "execute_result"
    }
   ],
   "source": [
    "tracker = {\"const\":0, \"base\":0}\n",
    "handleBoth([10**6])\n",
    "tracker['base'] + tracker['const']"
   ]
  },
  {
   "cell_type": "code",
   "execution_count": 110,
   "metadata": {
    "collapsed": false
   },
   "outputs": [
    {
     "name": "stdout",
     "output_type": "stream",
     "text": [
      "Exp: 84\n",
      "19342813113834066795298816\n",
      "\n",
      "\n",
      "462 6e+25\n"
     ]
    }
   ],
   "source": [
    "import math\n",
    "currN = 10 ** 10\n",
    "rnded = int(math.ceil(math.log(currN)/math.log(2)))\n",
    "print \"Exp:\", rnded\n",
    "print 2 ** rnded\n",
    "print \"\"\n",
    "const = 0\n",
    "childNodes = 0\n",
    "\n",
    "for r in range(rnded):\n",
    "    \n",
    "    currN = currN * .5\n",
    "    addChildNodes = (r+1)**2\n",
    "    childNodes += addChildNodes\n",
    "    addConst = (1 + currN) * addChildNodes\n",
    "    const += addConst\n",
    "    \n",
    "    #print currN, addChildNodes, addConst\n",
    "\n",
    "print\n",
    "print c, const"
   ]
  },
  {
   "cell_type": "code",
   "execution_count": 84,
   "metadata": {
    "collapsed": false
   },
   "outputs": [
    {
     "name": "stdout",
     "output_type": "stream",
     "text": [
      "8.0\n"
     ]
    },
    {
     "data": {
      "text/plain": [
       "256"
      ]
     },
     "execution_count": 84,
     "metadata": {},
     "output_type": "execute_result"
    }
   ],
   "source": [
    "print math.ceil(math.log(256)/math.log(2))\n",
    "2 ** 8"
   ]
  },
  {
   "cell_type": "code",
   "execution_count": 121,
   "metadata": {
    "collapsed": false
   },
   "outputs": [
    {
     "data": {
      "text/plain": [
       "1"
      ]
     },
     "execution_count": 121,
     "metadata": {},
     "output_type": "execute_result"
    }
   ],
   "source": [
    "int(not 0)"
   ]
  }
 ],
 "metadata": {
  "kernelspec": {
   "display_name": "Python 2",
   "language": "python",
   "name": "python2"
  },
  "language_info": {
   "codemirror_mode": {
    "name": "ipython",
    "version": 2
   },
   "file_extension": ".py",
   "mimetype": "text/x-python",
   "name": "python",
   "nbconvert_exporter": "python",
   "pygments_lexer": "ipython2",
   "version": "2.7.10"
  }
 },
 "nbformat": 4,
 "nbformat_minor": 0
}
