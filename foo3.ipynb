{
 "cells": [
  {
   "cell_type": "markdown",
   "metadata": {},
   "source": [
    "\"You forgot to give Professor Boolean's favorite rabbit specimen a name? You know how picky the professor is! Only particular names will do! Fix this immediately, before you're... eliminated!\"\n",
    "\n",
    "Luckily, your minion friend has already come up with a list of possible names, and we all know that the professor has always had a thing for names with lots of letters near the 'tail end' of the alphabet, so to speak. You realize that if you assign the value 1 to the letter A, 2 to B, and so on up to 26 for Z, and add up the values for all of the letters, the names with the highest total values will be the professor's favorites. For example, the name Annie has value 1 + 14 + 14 + 9 + 5 = 43, while the name Earz, though shorter, has value 5 + 1 + 18 + 26 = 50. \n",
    "\n",
    "If two names have the same value, Professor Boolean prefers the lexicographically larger name. For example, if the names were AL (value 13) and CJ (value 13), he prefers CJ.\n",
    "\n",
    "Write a function answer(names) which takes a list of names and returns the list sorted in descending order of how much the professor likes them. \n",
    "\n",
    "There will be at least 1 and no more than 1000 names. \n",
    "Each name will consist only of lower case letters. The length of each name will be at least 1 and no more than 8."
   ]
  },
  {
   "cell_type": "markdown",
   "metadata": {},
   "source": [
    "Inputs:\n",
    "    - (string list) names = [\"annie\", \"bonnie\", \"liz\"]\n",
    "Output:\n",
    "    - (string list) [\"bonnie\", \"liz\", \"annie\"]\n",
    "\n",
    "Inputs:\n",
    "    - (string list) names = [\"abcdefg\", \"vi\"]\n",
    "Output:\n",
    "    - (string list) [\"vi\", \"abcdefg\"]"
   ]
  },
  {
   "cell_type": "code",
   "execution_count": 33,
   "metadata": {
    "collapsed": false
   },
   "outputs": [],
   "source": [
    "def answer(names):\n",
    "    alpha = ['a', 'b', 'c', 'd', 'e', 'f', 'g', 'h', 'i', 'j', 'k', 'l', 'm', 'n', 'o', 'p', 'q', 'r', 's', 't', 'u', 'v', 'w', 'x', 'y', 'z']\n",
    "    ordered = []\n",
    "    for n in names:\n",
    "        n = n.lower()\n",
    "        nPoints = 0\n",
    "        #how many points\n",
    "        for letter in n:\n",
    "            nPoints += alpha.index(letter) + 1\n",
    "        \n",
    "        nObj = {\"name\":n, \"points\":nPoints}\n",
    "        oCount = len(ordered)\n",
    "        \n",
    "        if oCount == 0:\n",
    "            ordered.append(nObj)\n",
    "            continue # continue to next name\n",
    "        \n",
    "        for o in reversed(ordered):\n",
    "            if nPoints > o['points']:\n",
    "                ordered.insert(oCount, nObj)\n",
    "                break # stop the reverse loop\n",
    "            elif nPoints == o['points'] and n >= o['name']:\n",
    "                ordered.insert(oCount, nObj)\n",
    "                break # stop the reverse loop\n",
    "            elif oCount == 1:\n",
    "                ordered.insert(0, nObj)\n",
    "            oCount -= 1\n",
    "            \n",
    "    return [x['name'] for x in ordered[::-1]]"
   ]
  },
  {
   "cell_type": "code",
   "execution_count": 38,
   "metadata": {
    "collapsed": false
   },
   "outputs": [
    {
     "data": {
      "text/plain": [
       "['vi', 'abcdefg']"
      ]
     },
     "execution_count": 38,
     "metadata": {},
     "output_type": "execute_result"
    }
   ],
   "source": [
    "names = [\"abcdefg\", \"vi\"]\n",
    "answer(names)"
   ]
  }
 ],
 "metadata": {
  "kernelspec": {
   "display_name": "Python 2",
   "language": "python",
   "name": "python2"
  },
  "language_info": {
   "codemirror_mode": {
    "name": "ipython",
    "version": 2
   },
   "file_extension": ".py",
   "mimetype": "text/x-python",
   "name": "python",
   "nbconvert_exporter": "python",
   "pygments_lexer": "ipython2",
   "version": "2.7.10"
  }
 },
 "nbformat": 4,
 "nbformat_minor": 0
}
